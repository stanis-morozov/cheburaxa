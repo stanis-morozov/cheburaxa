{
 "cells": [
  {
   "cell_type": "code",
   "execution_count": 1,
   "id": "c62b3b43-6eab-4261-bfd7-3631b074d101",
   "metadata": {},
   "outputs": [],
   "source": [
    "import numpy as np\n",
    "import cheburaxa\n",
    "from tqdm.notebook import tqdm"
   ]
  },
  {
   "cell_type": "code",
   "execution_count": 2,
   "id": "7bfdc801-4a06-4357-996e-65231e9dfb8f",
   "metadata": {},
   "outputs": [],
   "source": [
    "n = 256\n",
    "\n",
    "A = np.eye(n)"
   ]
  },
  {
   "cell_type": "code",
   "execution_count": null,
   "id": "b1053720-84fe-4f90-85af-c3961d0b85b4",
   "metadata": {},
   "outputs": [
    {
     "data": {
      "application/vnd.jupyter.widget-view+json": {
       "model_id": "f80fca7bb6c2498e939351a678c78369",
       "version_major": 2,
       "version_minor": 0
      },
      "text/plain": [
       "  0%|          | 0/4 [00:00<?, ?it/s]"
      ]
     },
     "metadata": {},
     "output_type": "display_data"
    },
    {
     "data": {
      "application/vnd.jupyter.widget-view+json": {
       "model_id": "91aecbaaa3314e1b86e97d52c8d85385",
       "version_major": 2,
       "version_minor": 0
      },
      "text/plain": [
       "  0%|          | 0/20 [00:00<?, ?it/s]"
      ]
     },
     "metadata": {},
     "output_type": "display_data"
    },
    {
     "name": "stdout",
     "output_type": "stream",
     "text": [
      "0.4087887182100119\n"
     ]
    },
    {
     "data": {
      "application/vnd.jupyter.widget-view+json": {
       "model_id": "868eb30334ac4da7af9734320d2384a6",
       "version_major": 2,
       "version_minor": 0
      },
      "text/plain": [
       "  0%|          | 0/20 [00:00<?, ?it/s]"
      ]
     },
     "metadata": {},
     "output_type": "display_data"
    },
    {
     "name": "stdout",
     "output_type": "stream",
     "text": [
      "0.29977461649619214\n"
     ]
    },
    {
     "data": {
      "application/vnd.jupyter.widget-view+json": {
       "model_id": "c6d9aa2a6f6c4021bb605729841748d6",
       "version_major": 2,
       "version_minor": 0
      },
      "text/plain": [
       "  0%|          | 0/20 [00:00<?, ?it/s]"
      ]
     },
     "metadata": {},
     "output_type": "display_data"
    },
    {
     "name": "stdout",
     "output_type": "stream",
     "text": [
      "0.19702086989117287\n"
     ]
    },
    {
     "data": {
      "application/vnd.jupyter.widget-view+json": {
       "model_id": "a0ec5532bc9a42159dd3255a247647e0",
       "version_major": 2,
       "version_minor": 0
      },
      "text/plain": [
       "  0%|          | 0/20 [00:00<?, ?it/s]"
      ]
     },
     "metadata": {},
     "output_type": "display_data"
    }
   ],
   "source": [
    "rank_list = [8, 16, 32, 64]\n",
    "cheb_results = []\n",
    "\n",
    "for r in tqdm(rank_list):\n",
    "    init_list = []\n",
    "    res_list = []\n",
    "           \n",
    "    \n",
    "    for k in tqdm(range(20)):\n",
    "        U, V, U_subsets, V_subsets, info = cheburaxa.approximate_matrix(A, r)\n",
    "\n",
    "        curr_err = np.max(np.abs(A - U @ V.T))\n",
    "    \n",
    "        res_list.append(curr_err)\n",
    "    print(min(res_list))\n",
    "    cheb_results.append(res_list)"
   ]
  },
  {
   "cell_type": "code",
   "execution_count": null,
   "id": "13a2daff-a48a-4690-979a-cb51b5b4a3d5",
   "metadata": {},
   "outputs": [],
   "source": []
  },
  {
   "cell_type": "code",
   "execution_count": null,
   "id": "eac36ff6-d228-4dc2-bc04-42ddaa8c8b7a",
   "metadata": {},
   "outputs": [],
   "source": []
  }
 ],
 "metadata": {
  "kernelspec": {
   "display_name": "myenv",
   "language": "python",
   "name": "myenv"
  },
  "language_info": {
   "codemirror_mode": {
    "name": "ipython",
    "version": 3
   },
   "file_extension": ".py",
   "mimetype": "text/x-python",
   "name": "python",
   "nbconvert_exporter": "python",
   "pygments_lexer": "ipython3",
   "version": "3.12.8"
  }
 },
 "nbformat": 4,
 "nbformat_minor": 5
}
